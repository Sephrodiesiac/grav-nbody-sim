{
 "cells": [
  {
   "cell_type": "markdown",
   "metadata": {},
   "source": [
    "### Final Project: N-Body Simulation of Gravitational Collapse\n",
    "#### ThomasJae Garcia"
   ]
  },
  {
   "cell_type": "code",
   "execution_count": null,
   "metadata": {
    "collapsed": true
   },
   "outputs": [],
   "source": [
    "import math\n",
    "import numpy as np\n",
    "import numpy.random as rand\n",
    "import matplotlib\n",
    "import matplotlib.pyplot as plt\n",
    "import scipy.constants as const\n",
    "import numpy.fft as fft"
   ]
  },
  {
   "cell_type": "markdown",
   "metadata": {},
   "source": [
    "#### Initial Conditions"
   ]
  },
  {
   "cell_type": "code",
   "execution_count": null,
   "metadata": {
    "collapsed": true
   },
   "outputs": [],
   "source": [
    "Np = 4096\n",
    "N = 1024\n",
    "L = 1\n",
    "R = L/4\n",
    "m = .1\n",
    "G = const.G\n",
    "\n",
    "rho_average = (Np * m) / (math.pi * R**2)\n",
    "\n",
    "t_dyn = math.sqrt((math.pi * R) / (8 * G * rho_average))"
   ]
  },
  {
   "cell_type": "markdown",
   "metadata": {},
   "source": [
    "#### Create Initial Positions of Points"
   ]
  },
  {
   "cell_type": "code",
   "execution_count": null,
   "metadata": {
    "scrolled": false
   },
   "outputs": [],
   "source": [
    "xpoints = []\n",
    "ypoints = []\n",
    "points = []\n",
    "start = L/2\n",
    "\n",
    "#Create set of evenly distributed points on a circle\n",
    "rand.seed(728)\n",
    "for i in range(Np):\n",
    "        r = R*math.sqrt(rand.random())\n",
    "        angle = 2*math.pi*rand.random()\n",
    "        x = start + r*math.cos(angle)\n",
    "        y = start + r*math.sin(angle)\n",
    "        points.append((x,y))\n",
    "        xpoints.append(x)\n",
    "        ypoints.append(y)\n",
    "\n",
    "#Scatter points\n",
    "plt.figure(figsize=(5,5)) #make all figures larger\n",
    "plt.scatter(xpoints, ypoints, s=1)\n",
    "plt.xlim(0,1)\n",
    "plt.ylim(0,1)\n",
    "plt.xlabel('x (m)')\n",
    "plt.ylabel('y (m)')\n",
    "plt.title(\"Initial Points\")\n",
    "plt.axes().set_aspect('equal')\n",
    "plt.show()"
   ]
  },
  {
   "cell_type": "markdown",
   "metadata": {
    "collapsed": true
   },
   "source": [
    "#### Create Density Field (CIC)"
   ]
  },
  {
   "cell_type": "code",
   "execution_count": null,
   "metadata": {
    "scrolled": false
   },
   "outputs": [],
   "source": [
    "cell_x = L/1024        \n",
    "cell_y = L/1024\n",
    "\n",
    "def density_field(points):\n",
    "    \n",
    "    m = .1\n",
    "    mass = np.zeros((1024, 1024))\n",
    "    A = cell_x * cell_y\n",
    "    center_cell = L/2048\n",
    "    \n",
    "    for i in range(Np):\n",
    "        \n",
    "        #Find where particle is in the the cell\n",
    "        cx, cy = points[i][0] % cell_x , points[i][1] % cell_y\n",
    "        \n",
    "        #Find which cell the particle is in\n",
    "        loc_y, loc_x = int(points[i][0] // cell_x) , int(points[i][1] // cell_y)\n",
    "    \n",
    "        #Add mass to cell the particle is in\n",
    "        center_diff_x = abs(center_cell - cx)\n",
    "        center_diff_y = abs(center_cell - cy)\n",
    "        mass[loc_x][loc_y] += (cell_x-center_diff_x)*(cell_y-center_diff_y) * m/A\n",
    "        \n",
    "        #Add mass to surrounding particles\n",
    "        \n",
    "        #Upper right\n",
    "        if cx > cell_x and cy > cell_y:\n",
    "            mass[(loc_x + 1) % N][loc_y] += (cell_x - center_diff_x )*(center_diff_y) *  m/A\n",
    "            mass[loc_x][(loc_y + 1) % N] += (center_diff_x)*(cell_y - center_diff_y) * m/A\n",
    "            mass[(loc_x + 1) % N][(loc_y + 1) % N] += (center_diff_x)*(center_diff_y) * m/A\n",
    "        \n",
    "        #Lower right\n",
    "        elif cx > cell_x and cy < cell_y:\n",
    "            mass[loc_x - 1][loc_y] += (cell_x - center_diff_x )*(center_diff_y) * m/A\n",
    "            mass[loc_x][(loc_y + 1) % N] += (center_diff_x)*(cell_y - center_diff_y) * m/A\n",
    "            mass[loc_x - 1][(loc_y + 1) % N] += (center_diff_x)*(center_diff_y) * m/A\n",
    "            \n",
    "        #Upper left    \n",
    "        elif cx < cell_x and cy > cell_y:\n",
    "            mass[(loc_x + 1) % N][loc_y] += (cell_x - center_diff_x )*(center_diff_y) * m/A\n",
    "            mass[loc_x][loc_y - 1] += (center_diff_x)*(cell_y - center_diff_y) * m/A\n",
    "            mass[(loc_x + 1) % N][loc_y - 1] += (center_diff_x)*(center_diff_y) * m/A\n",
    "        \n",
    "        #Lower left\n",
    "        else:\n",
    "            mass[loc_x - 1][loc_y] += (cell_x - center_diff_x )*(center_diff_y) * m/A\n",
    "            mass[loc_x][loc_y - 1] += (center_diff_x)*(cell_y - center_diff_y) * m/A\n",
    "            mass[loc_x - 1][loc_y - 1] += (center_diff_x)*(center_diff_y) * m/A\n",
    "            \n",
    "    rho = mass / A\n",
    "            \n",
    "    return rho\n",
    "\n",
    "rho = density_field(points)\n",
    "\n",
    "plt.figure(figsize=(5,5))\n",
    "plt.title(\"Density Field\")\n",
    "plt.imshow(rho, 'hot_r')\n",
    "plt.show()"
   ]
  },
  {
   "cell_type": "markdown",
   "metadata": {},
   "source": [
    "#### Construct Kernel"
   ]
  },
  {
   "cell_type": "code",
   "execution_count": null,
   "metadata": {
    "collapsed": true,
    "scrolled": true
   },
   "outputs": [],
   "source": [
    "def get_w(points):\n",
    "    \n",
    "    r = np.zeros((1024, 1024))\n",
    "    w = np.zeros((1024, 1024))\n",
    "    x = np.zeros(1024)\n",
    "    y = np.zeros(1024)\n",
    "    \n",
    "    for i in range(len(r)):\n",
    "        \n",
    "        if i < 1024//2:\n",
    "            y[i] = L/1024 * i\n",
    "        else:\n",
    "            y[i] = L/1024 * (i - 1024)\n",
    "            \n",
    "        for j in range(len(r)):\n",
    "            \n",
    "            if j < 1024//2:\n",
    "                x[j] = L/1024 * j\n",
    "                r[i,j] = math.sqrt(x[j]**2+y[i]**2)\n",
    "            else:\n",
    "                x[j] = L/1024 * (j - 1024)\n",
    "                r[i,j] = math.sqrt(x[j]**2+y[i]**2)\n",
    "                \n",
    "            if i == 0 and j == 0:\n",
    "                w[0,0] = -G/.4\n",
    "            else:\n",
    "                w[i,j] = -G / r[i,j]\n",
    "    \n",
    "    return w\n",
    "\n",
    "kernel = fft.rfft2(get_w(points))"
   ]
  },
  {
   "cell_type": "markdown",
   "metadata": {
    "collapsed": true
   },
   "source": [
    " #### Calculate Gravitational Potential"
   ]
  },
  {
   "cell_type": "code",
   "execution_count": null,
   "metadata": {},
   "outputs": [],
   "source": [
    "rho_k = fft.rfft2(rho)\n",
    "\n",
    "phi_k = rho_k * kernel * (L/N)**2 \n",
    "\n",
    "phi = fft.irfft2(phi_k)\n",
    "\n",
    "plt.figure(figsize=(5,5))\n",
    "plt.title(\"Gravitational Potential Field\")\n",
    "plt.imshow(phi)\n",
    "plt.show()"
   ]
  },
  {
   "cell_type": "markdown",
   "metadata": {},
   "source": [
    "#### Interpolate Forces"
   ]
  },
  {
   "cell_type": "code",
   "execution_count": null,
   "metadata": {
    "collapsed": true
   },
   "outputs": [],
   "source": [
    "def grad_phi(phi, i, j, h):\n",
    "    #Deal with boundaries using modulus\n",
    "    (i, i_p, i_m, j, j_p, j_m) = (i % N, (i+1) % N, (i-1) % N, j % N, (j+1) % N, (j-1) % N)\n",
    "    #Central difference the field\n",
    "    return -np.array([(phi[i][j_p] - phi[i][j_m])/(2*h), (phi[i_p][j] - phi[i_m][j])/(2*h)])\n",
    "\n",
    "def particle_forces(phi, points):\n",
    "    \n",
    "    m = .1\n",
    "    force = np.zeros((4096, 2), dtype=float)\n",
    "    h = L/1024\n",
    "    A = cell_x * cell_y\n",
    "    center_cell = L/2048\n",
    "    \n",
    "    for i in range(Np):\n",
    "        \n",
    "        #Find where particle is in the the cell\n",
    "        cx, cy = points[i][0] % cell_x , points[i][1] % cell_y\n",
    "        \n",
    "        #Find which cell the particle is in\n",
    "        loc_y, loc_x = int(points[i][0] // cell_x) , int(points[i][1] // cell_y)\n",
    "    \n",
    "        #Add force from parent cell\n",
    "        center_diff_x = abs(center_cell - cx)\n",
    "        center_diff_y = abs(center_cell - cy)\n",
    "        force[i] += (cell_x-center_diff_x)*(cell_y-center_diff_y) * grad_phi(phi, loc_x, loc_y, h)/A\n",
    "        \n",
    "        #Add force from surrounding cells\n",
    "        \n",
    "        #Upper right\n",
    "        if cx > cell_x and cy > cell_y:\n",
    "            force[i] += ((cell_x - center_diff_x )*(center_diff_y) * grad_phi(phi, loc_x + 1, loc_y, h)/A\n",
    "                       + (center_diff_x)*(cell_y - center_diff_y) * grad_phi(phi, loc_x, loc_y + 1, h)/A\n",
    "                       + (center_diff_x)*(center_diff_y) * grad_phi(phi, loc_x + 1, loc_y + 1, h)/A)\n",
    "        \n",
    "        #Lower right\n",
    "        elif cx > cell_x and cy < cell_y:\n",
    "            force[i] += ((cell_x - center_diff_x )*(center_diff_y) * grad_phi(phi, loc_x - 1, loc_y, h)/A\n",
    "                       + (center_diff_x)*(cell_y - center_diff_y) * grad_phi(phi, loc_x, loc_y + 1, h)/A\n",
    "                       + (center_diff_x)*(center_diff_y) * grad_phi(phi, loc_x - 1, loc_y + 1, h)/A)\n",
    "            \n",
    "        #Upper left    \n",
    "        elif cx < cell_x and cy > cell_y:\n",
    "            force[i] += ((cell_x - center_diff_x )*(center_diff_y) * grad_phi(phi, loc_x + 1, loc_y, h)/A\n",
    "                       + (center_diff_x)*(cell_y - center_diff_y) * grad_phi(phi, loc_x, loc_y - 1, h)/A\n",
    "                       + (center_diff_x)*(center_diff_y) * grad_phi(phi, loc_x + 1, loc_y - 1, h)/A)\n",
    "        \n",
    "        #Lower left\n",
    "        else:\n",
    "            force[i] += ((cell_x - center_diff_x )*(center_diff_y) * grad_phi(phi, loc_x - 1, loc_y, h)/A\n",
    "                       + (center_diff_x)*(cell_y - center_diff_y) * grad_phi(phi, loc_x, loc_y - 1, h)/A\n",
    "                       + (center_diff_x)*(center_diff_y) * grad_phi(phi, loc_x - 1, loc_y - 1, h)/A)\n",
    "    \n",
    "    return force\n",
    "    \n",
    "forces = particle_forces(phi, points) "
   ]
  },
  {
   "cell_type": "markdown",
   "metadata": {},
   "source": [
    "#### Calculate New Positions and Set Up Plots"
   ]
  },
  {
   "cell_type": "code",
   "execution_count": null,
   "metadata": {
    "collapsed": true
   },
   "outputs": [],
   "source": [
    "def get_max_acc(forces):\n",
    "    max_acc = 0\n",
    "    for i in range(len(forces)):\n",
    "        new_max = math.sqrt(forces[i][0]**2 + forces[i][1]**2)\n",
    "        if new_max > max_acc:\n",
    "            max_acc = new_max\n",
    "    return max_acc\n",
    "\n",
    "def time_step(max_acc):\n",
    "    return .9*math.sqrt((1/1024)/(max_acc))\n",
    "\n",
    "def new_positions(points, v0, forces, t_step):\n",
    "    \n",
    "    #Verlet method to update velocities and positions\n",
    "    max_acc = get_max_acc(forces)\n",
    "    t_step = time_step(max_acc)\n",
    "    vh = np.zeros((Np, 2), dtype=float)\n",
    "    vh = v0 + t_step/2 * forces\n",
    "    points = (points + t_step*vh) % L #Deal with out of bounds\n",
    "    v0 = vh + t_step/2 * forces\n",
    "    \n",
    "    return points, v0\n",
    "\n",
    "def get_points(Np):\n",
    "    points = []\n",
    "    rand.seed(728)\n",
    "    \n",
    "    for i in range(Np):\n",
    "        r = R*math.sqrt(rand.random())\n",
    "        angle = 2*math.pi*rand.random()\n",
    "        x = start + r*math.cos(angle)\n",
    "        y = start + r*math.sin(angle)\n",
    "        points.append((x,y))\n",
    "        \n",
    "    return points\n",
    "\n",
    "def plot_points(points, title):\n",
    "    x_points = []\n",
    "    y_points = []\n",
    "    \n",
    "    for i in range(len(points)):\n",
    "        x_points.append(points[i][0])\n",
    "        y_points.append(points[i][1])\n",
    "\n",
    "    plt.figure(figsize=(5,5)) #make all figures larger\n",
    "    plt.scatter(x_points, y_points, s=1)\n",
    "    plt.xlim(0,1)\n",
    "    plt.ylim(0,1)\n",
    "    plt.xlabel('x (m)')\n",
    "    plt.ylabel('y (m)')\n",
    "    plt.title(\"Simulation at \" + title +\" t_dyn\")\n",
    "    plt.axes().set_aspect('equal')\n",
    "    plt.show()\n",
    "    \n",
    "def get_r(x, y):\n",
    "    return math.sqrt((x-.5)**2 + (y-.5)**2)\n",
    "\n",
    "def plot_avg_density(points, title):\n",
    "    m = .1\n",
    "    ring_width = L/1024\n",
    "    rho_avg = np.zeros(1024)\n",
    "    rho_r = np.zeros(1024)\n",
    "    ring_area = 0\n",
    "    \n",
    "    for i in range(Np):\n",
    "        \n",
    "        r = get_r(points[i][0], points[i][1])\n",
    "        ring_loc = abs(int(r // ring_width) - 512)\n",
    "        \n",
    "        if ring_loc > 1024:\n",
    "            break\n",
    "        if ring_loc == 0:\n",
    "            ring_area = abs(math.pi * ring_width**2)\n",
    "        else:\n",
    "            ring_area = abs(math.pi * ring_width**2* (2*ring_loc - 1))\n",
    "        rho_avg[ring_loc] += m / ring_area\n",
    "        rho_r[ring_loc] = ring_loc * L/1024\n",
    "      \n",
    "    plt.plot(rho_r, rho_avg)\n",
    "    plt.xlabel('r (m)')\n",
    "    plt.ylabel(r'$\\rho_{avg}\\hspace{1}(\\frac{kg}{m^2})$')\n",
    "    plt.title(\"Average Density at \" + title +\" t_dyn\")\n",
    "    plt.show()\n",
    "    \n",
    "def get_acc(force_x, force_y):\n",
    "    return math.sqrt(force_x**2 + force_y**2)\n",
    "    \n",
    "def plot_avg_acc(points, forces, title):\n",
    "    m = .1\n",
    "    ring_width = L/1024\n",
    "    acc_avg = np.zeros(1024)\n",
    "    acc_r = np.zeros(1024)\n",
    "    ring_area = 0\n",
    "    \n",
    "    for i in range(Np):\n",
    "        \n",
    "        r = get_r(points[i][0], points[i][1])\n",
    "        acc = get_acc(forces[i][0], forces[i][1])\n",
    "        \n",
    "        ring_loc = abs(int(r // ring_width) - 512)\n",
    "        \n",
    "        if ring_loc > 1024:\n",
    "            break\n",
    "        if ring_loc == 0:\n",
    "            ring_area = abs(math.pi * ring_width**2)\n",
    "        else:\n",
    "            ring_area = abs(math.pi * ring_width**2* (2*ring_loc - 1))\n",
    "        acc_avg[ring_loc] += acc / ring_area\n",
    "        acc_r[ring_loc] = ring_loc * L/1024\n",
    "      \n",
    "    plt.plot(acc_r, acc_avg)\n",
    "    plt.xlabel('r (m)')\n",
    "    plt.ylabel(r'$a_{avg}\\hspace{1}(\\frac{m}{s^2})$')\n",
    "    plt.title(\"Average Acceleration at \" + title +\" t_dyn\")\n",
    "    plt.show()"
   ]
  },
  {
   "cell_type": "markdown",
   "metadata": {},
   "source": [
    "#### Run the simulation and display results"
   ]
  },
  {
   "cell_type": "code",
   "execution_count": null,
   "metadata": {},
   "outputs": [],
   "source": [
    "def gravitational_collapse():\n",
    "    \n",
    "    #Set initial conditions\n",
    "    Np = 4096\n",
    "    v0 = np.zeros((Np, 2), dtype = float)\n",
    "    points = get_points(Np)\n",
    "    t = 0\n",
    "   \n",
    "    plot_points(points, title='0') #Initial points\n",
    "    #plot_avg_density(points, title='0')  \n",
    "    \n",
    "    while t/t_dyn < 1.5:\n",
    "        \n",
    "        #Run all the calculations\n",
    "        epsilon = 10**-2\n",
    "        rho = density_field(points)\n",
    "        rho_k = fft.rfft2(rho)\n",
    "        phi_k = .1*rho_k * kernel * (L/N)**2 \n",
    "        phi = fft.irfft2(phi_k)\n",
    "        forces = particle_forces(phi, points)\n",
    "       # if t == 0:\n",
    "            #plot_avg_acc(points, forces, '0') \n",
    "        max_acc = get_max_acc(forces)\n",
    "        t_step = time_step(max_acc) * 1/3\n",
    "        points, v0 = new_positions(points, v0, forces, t_step)\n",
    "        t += t_step\n",
    "        \n",
    "        #Plot points, avg density, and avg acceleration at certain intervals\n",
    "        if abs(t/t_dyn - .5) < epsilon:\n",
    "            plot_points(points, title='.5')\n",
    "            #plot_avg_density(points, title='.5')\n",
    "            #plot_avg_acc(points, forces, '.5')  \n",
    "            \n",
    "        if abs(t/t_dyn - 1) < epsilon and t/t_dyn - 1 < 0:\n",
    "            plot_points(points, title='1')\n",
    "            #plot_avg_density(points, title='1')\n",
    "            #plot_avg_acc(points, forces, '1')  \n",
    "               \n",
    "    plot_points(points, title='1.5')\n",
    "    #plot_avg_density(points, title='1.5')\n",
    "    #plot_avg_acc(points, forces, '1.5')  \n",
    "\n",
    "gravitational_collapse()"
   ]
  },
  {
   "cell_type": "markdown",
   "metadata": {},
   "source": [
    "#### Discussion of Results"
   ]
  },
  {
   "cell_type": "markdown",
   "metadata": {
    "collapsed": true
   },
   "source": [
    "In a gravitational collapse, the particles are drawn towards their center of mass, as can be seen by the evolution of the particles over 1 t_dyn.  The particles continue to be drawn towards each other until all the mass is condensed over a small area, as can be seen at 1 t_dyn.  The particles then explode outwards, which occurs due to the extremely high density of particles gathered at the center. In terms of average density, the density is always larger closer to the center until the particles explode outwards, since there are a larger number of particles over a smaller area.  The average density closer to the center continues to increase, as can be seen.  When the particles explode outward, the density is far more uniform due to the particles being spread out instead of condensed at the center.  Acceleration is constantly constantly increasing as the particles are being drawn faster and faster towards the center until the particles explode outward, where the acceleration rapidly decreases as the particles get further and further away from each other. In the PM method, the resolution is limited by the cell length, so it can't represent the forces between particles accurately as they get close together.  A more accurate method would be able to model this and have correct interactions."
   ]
  },
  {
   "cell_type": "code",
   "execution_count": null,
   "metadata": {
    "collapsed": true
   },
   "outputs": [],
   "source": []
  }
 ],
 "metadata": {
  "kernelspec": {
   "display_name": "Python 3",
   "language": "python",
   "name": "python3"
  },
  "language_info": {
   "codemirror_mode": {
    "name": "ipython",
    "version": 3
   },
   "file_extension": ".py",
   "mimetype": "text/x-python",
   "name": "python",
   "nbconvert_exporter": "python",
   "pygments_lexer": "ipython3",
   "version": "3.6.1"
  }
 },
 "nbformat": 4,
 "nbformat_minor": 2
}
